{
  "nbformat": 4,
  "nbformat_minor": 0,
  "metadata": {
    "colab": {
      "name": "Assignment Day 3 - Basic Python - Ega.ipynb",
      "provenance": [],
      "collapsed_sections": [],
      "authorship_tag": "ABX9TyM7vjiluCMjzcswPxvZwiGi",
      "include_colab_link": true
    },
    "kernelspec": {
      "name": "python3",
      "display_name": "Python 3"
    },
    "language_info": {
      "name": "python"
    }
  },
  "cells": [
    {
      "cell_type": "markdown",
      "metadata": {
        "id": "view-in-github",
        "colab_type": "text"
      },
      "source": [
        "<a href=\"https://colab.research.google.com/github/egafdharmawan/dibimbingID-BasicPython/blob/main/Assignment_Day_3_Basic_Python_Ega.ipynb\" target=\"_parent\"><img src=\"https://colab.research.google.com/assets/colab-badge.svg\" alt=\"Open In Colab\"/></a>"
      ]
    },
    {
      "cell_type": "markdown",
      "source": [
        "## Basic Question"
      ],
      "metadata": {
        "id": "OHhkZbDkLnJV"
      }
    },
    {
      "cell_type": "code",
      "source": [
        "# 1. Program input nama dan print dengan Hi / Halo\n",
        "\n",
        "name = input('Enter Your Name : ')\n",
        "print('Hi ' + name)"
      ],
      "metadata": {
        "colab": {
          "base_uri": "https://localhost:8080/"
        },
        "id": "897lkXicLpUM",
        "outputId": "88d00ebd-a035-4a1e-ada9-c5a966808575"
      },
      "execution_count": 4,
      "outputs": [
        {
          "output_type": "stream",
          "name": "stdout",
          "text": [
            "Enter Your Name : ega\n",
            "Hi ega\n"
          ]
        }
      ]
    },
    {
      "cell_type": "code",
      "source": [
        "# 2. Program input panjang lebar, output m2 dan hectare\n",
        "\n",
        "panjang = input('Panjang : ')\n",
        "lebar = input('Lebar : ')\n",
        "luasM2 = float(panjang)*float(lebar)\n",
        "luasH = (float(panjang)*float(lebar))/10000\n",
        "print('Luas Meter Persegi adalah ' + str(luasM2) + ' m2')\n",
        "print('Luas Hektar adalah ' + str(luasH) + ' Hectare')"
      ],
      "metadata": {
        "colab": {
          "base_uri": "https://localhost:8080/"
        },
        "id": "8drbEiqbMaSh",
        "outputId": "4dd1f4bc-f696-49f2-ab90-ed5af6664ab1"
      },
      "execution_count": 30,
      "outputs": [
        {
          "output_type": "stream",
          "name": "stdout",
          "text": [
            "Panjang : 4\n",
            "Lebar : 5\n",
            "Luas Meter Persegi adalah 20.0 m2\n",
            "Luas Hektar adalah 0.002 Hectare\n"
          ]
        }
      ]
    },
    {
      "cell_type": "code",
      "source": [
        "# 3. Program jumlah bilangan dari 1 ke input\n",
        "\n",
        "bilangan = float(input('Bilangan N : '))\n",
        "all = 0\n",
        "while bilangan >= 1:\n",
        "  all = all + bilangan\n",
        "  bilangan -= 1\n",
        "print('Jumlah semua bilangan bulat positif hingga n adalah ' + str(all))"
      ],
      "metadata": {
        "colab": {
          "base_uri": "https://localhost:8080/"
        },
        "id": "cgx-thibOKm6",
        "outputId": "6b520846-d87e-4ca8-9979-00c93098259d"
      },
      "execution_count": 22,
      "outputs": [
        {
          "output_type": "stream",
          "name": "stdout",
          "text": [
            "Bilangan N : 10\n",
            "Jumlah semua bilangan bulat positif hingga n adalah 55.0\n"
          ]
        }
      ]
    },
    {
      "cell_type": "code",
      "source": [
        "# 4. Program hitung luas segitiga\n",
        "\n",
        "print('formula metode normal (alas*tinggi/2) ')\n",
        "print('formula metode heron (0.5*(a+b+c)) ')\n",
        "calculate = input('Pilih metode (normal/heron) : ')\n",
        "if calculate == 'normal' :\n",
        "  tinggi = float(input('Masukan Tinggi : '))\n",
        "  alas = float(input('Masukan Alas : '))\n",
        "  luas = (tinggi*alas)/2\n",
        "  print('Luas Segitiga adalah ' + str(luas))\n",
        "elif calculate == 'heron' :\n",
        "  a = float(input('Masukan panjang Sisi A : '))\n",
        "  b = float(input('Masukan panjang Sisi B : '))\n",
        "  c = float(input('Masukan panjang Sisi C : '))\n",
        "  luas = 0.5*(a+b+c)\n",
        "  print('Luas Segitiga adalah ' + str(luas))\n",
        "else :\n",
        "  print('Metode tidak valid')"
      ],
      "metadata": {
        "colab": {
          "base_uri": "https://localhost:8080/"
        },
        "id": "2_yUH7i6Pnwz",
        "outputId": "2b85c164-a111-4eef-9d69-f3085b670f03"
      },
      "execution_count": 31,
      "outputs": [
        {
          "output_type": "stream",
          "name": "stdout",
          "text": [
            "formula metode normal (alas*tinggi/2) \n",
            "formula metode heron (0.5*(a+b+c)) \n",
            "Pilih metode (normal/heron) : heron\n",
            "Masukan panjang Sisi A : 5.6\n",
            "Masukan panjang Sisi B : 4.8\n",
            "Masukan panjang Sisi C : 12.9\n",
            "Luas Segitiga adalah 11.649999999999999\n"
          ]
        }
      ]
    },
    {
      "cell_type": "code",
      "source": [
        "# 5. Program membaca jenis gempa by magnitude\n",
        "\n",
        "skala = float(input('Masukan skala gempa : '))\n",
        "if skala < 2 :\n",
        "  print('Micro Earthquake')\n",
        "elif skala <= 3.9 :\n",
        "  print('Minor Earthquake')\n",
        "elif skala <= 4.9 :\n",
        "  print('Light Earthquake')\n",
        "elif skala <= 5.9 :\n",
        "  print('Moderate Earthquake')\n",
        "elif skala <= 6.9 :\n",
        "  print('Strong Earthquake')\n",
        "elif skala <= 7.9 :\n",
        "  print('Major Earthquake')\n",
        "elif skala <= 9.9 :\n",
        "  print('Great Earthquake')\n",
        "elif skala >= 10 :\n",
        "  print('Massive Earthquake')\n",
        "else:\n",
        "  print('Angka tidak valid')"
      ],
      "metadata": {
        "colab": {
          "base_uri": "https://localhost:8080/"
        },
        "id": "AqHR6WquTZlu",
        "outputId": "deb553db-b857-4f6e-8e47-6d07479ffddf"
      },
      "execution_count": 37,
      "outputs": [
        {
          "output_type": "stream",
          "name": "stdout",
          "text": [
            "Masukan skala gempa : 11\n",
            "Massive Earthquake\n"
          ]
        }
      ]
    },
    {
      "cell_type": "markdown",
      "source": [
        "## Advanced Question"
      ],
      "metadata": {
        "id": "qh_YbSfsV1h2"
      }
    },
    {
      "cell_type": "code",
      "source": [
        "# Import necessary module\n",
        "import numpy as np\n",
        "import pandas as pd\n",
        "import matplotlib.pyplot as plt\n",
        "\n",
        "# Dataset\n",
        "data = pd.read_csv('https://raw.githubusercontent.com/hadimaster65555/dataset_for_teaching/main/dataset/linear_regression_simulation_data/linear-regression.csv', header=None)\n",
        "data.head()"
      ],
      "metadata": {
        "colab": {
          "base_uri": "https://localhost:8080/",
          "height": 206
        },
        "id": "A5YvVCQ5WCKN",
        "outputId": "12d0292c-dfa1-4c7c-e6aa-c14fddc6052c"
      },
      "execution_count": 78,
      "outputs": [
        {
          "output_type": "execute_result",
          "data": {
            "text/plain": [
              "         0        1\n",
              "0  0.58705  5.79555\n",
              "1 -0.15098  3.53372\n",
              "2 -0.24805  3.22805\n",
              "3 -0.36056  2.87947\n",
              "4  0.09375  4.40297"
            ],
            "text/html": [
              "\n",
              "  <div id=\"df-d8804531-5359-4a01-9918-dfdb01ab5cc6\">\n",
              "    <div class=\"colab-df-container\">\n",
              "      <div>\n",
              "<style scoped>\n",
              "    .dataframe tbody tr th:only-of-type {\n",
              "        vertical-align: middle;\n",
              "    }\n",
              "\n",
              "    .dataframe tbody tr th {\n",
              "        vertical-align: top;\n",
              "    }\n",
              "\n",
              "    .dataframe thead th {\n",
              "        text-align: right;\n",
              "    }\n",
              "</style>\n",
              "<table border=\"1\" class=\"dataframe\">\n",
              "  <thead>\n",
              "    <tr style=\"text-align: right;\">\n",
              "      <th></th>\n",
              "      <th>0</th>\n",
              "      <th>1</th>\n",
              "    </tr>\n",
              "  </thead>\n",
              "  <tbody>\n",
              "    <tr>\n",
              "      <th>0</th>\n",
              "      <td>0.58705</td>\n",
              "      <td>5.79555</td>\n",
              "    </tr>\n",
              "    <tr>\n",
              "      <th>1</th>\n",
              "      <td>-0.15098</td>\n",
              "      <td>3.53372</td>\n",
              "    </tr>\n",
              "    <tr>\n",
              "      <th>2</th>\n",
              "      <td>-0.24805</td>\n",
              "      <td>3.22805</td>\n",
              "    </tr>\n",
              "    <tr>\n",
              "      <th>3</th>\n",
              "      <td>-0.36056</td>\n",
              "      <td>2.87947</td>\n",
              "    </tr>\n",
              "    <tr>\n",
              "      <th>4</th>\n",
              "      <td>0.09375</td>\n",
              "      <td>4.40297</td>\n",
              "    </tr>\n",
              "  </tbody>\n",
              "</table>\n",
              "</div>\n",
              "      <button class=\"colab-df-convert\" onclick=\"convertToInteractive('df-d8804531-5359-4a01-9918-dfdb01ab5cc6')\"\n",
              "              title=\"Convert this dataframe to an interactive table.\"\n",
              "              style=\"display:none;\">\n",
              "        \n",
              "  <svg xmlns=\"http://www.w3.org/2000/svg\" height=\"24px\"viewBox=\"0 0 24 24\"\n",
              "       width=\"24px\">\n",
              "    <path d=\"M0 0h24v24H0V0z\" fill=\"none\"/>\n",
              "    <path d=\"M18.56 5.44l.94 2.06.94-2.06 2.06-.94-2.06-.94-.94-2.06-.94 2.06-2.06.94zm-11 1L8.5 8.5l.94-2.06 2.06-.94-2.06-.94L8.5 2.5l-.94 2.06-2.06.94zm10 10l.94 2.06.94-2.06 2.06-.94-2.06-.94-.94-2.06-.94 2.06-2.06.94z\"/><path d=\"M17.41 7.96l-1.37-1.37c-.4-.4-.92-.59-1.43-.59-.52 0-1.04.2-1.43.59L10.3 9.45l-7.72 7.72c-.78.78-.78 2.05 0 2.83L4 21.41c.39.39.9.59 1.41.59.51 0 1.02-.2 1.41-.59l7.78-7.78 2.81-2.81c.8-.78.8-2.07 0-2.86zM5.41 20L4 18.59l7.72-7.72 1.47 1.35L5.41 20z\"/>\n",
              "  </svg>\n",
              "      </button>\n",
              "      \n",
              "  <style>\n",
              "    .colab-df-container {\n",
              "      display:flex;\n",
              "      flex-wrap:wrap;\n",
              "      gap: 12px;\n",
              "    }\n",
              "\n",
              "    .colab-df-convert {\n",
              "      background-color: #E8F0FE;\n",
              "      border: none;\n",
              "      border-radius: 50%;\n",
              "      cursor: pointer;\n",
              "      display: none;\n",
              "      fill: #1967D2;\n",
              "      height: 32px;\n",
              "      padding: 0 0 0 0;\n",
              "      width: 32px;\n",
              "    }\n",
              "\n",
              "    .colab-df-convert:hover {\n",
              "      background-color: #E2EBFA;\n",
              "      box-shadow: 0px 1px 2px rgba(60, 64, 67, 0.3), 0px 1px 3px 1px rgba(60, 64, 67, 0.15);\n",
              "      fill: #174EA6;\n",
              "    }\n",
              "\n",
              "    [theme=dark] .colab-df-convert {\n",
              "      background-color: #3B4455;\n",
              "      fill: #D2E3FC;\n",
              "    }\n",
              "\n",
              "    [theme=dark] .colab-df-convert:hover {\n",
              "      background-color: #434B5C;\n",
              "      box-shadow: 0px 1px 3px 1px rgba(0, 0, 0, 0.15);\n",
              "      filter: drop-shadow(0px 1px 2px rgba(0, 0, 0, 0.3));\n",
              "      fill: #FFFFFF;\n",
              "    }\n",
              "  </style>\n",
              "\n",
              "      <script>\n",
              "        const buttonEl =\n",
              "          document.querySelector('#df-d8804531-5359-4a01-9918-dfdb01ab5cc6 button.colab-df-convert');\n",
              "        buttonEl.style.display =\n",
              "          google.colab.kernel.accessAllowed ? 'block' : 'none';\n",
              "\n",
              "        async function convertToInteractive(key) {\n",
              "          const element = document.querySelector('#df-d8804531-5359-4a01-9918-dfdb01ab5cc6');\n",
              "          const dataTable =\n",
              "            await google.colab.kernel.invokeFunction('convertToInteractive',\n",
              "                                                     [key], {});\n",
              "          if (!dataTable) return;\n",
              "\n",
              "          const docLinkHtml = 'Like what you see? Visit the ' +\n",
              "            '<a target=\"_blank\" href=https://colab.research.google.com/notebooks/data_table.ipynb>data table notebook</a>'\n",
              "            + ' to learn more about interactive tables.';\n",
              "          element.innerHTML = '';\n",
              "          dataTable['output_type'] = 'display_data';\n",
              "          await google.colab.output.renderOutput(dataTable, element);\n",
              "          const docLink = document.createElement('div');\n",
              "          docLink.innerHTML = docLinkHtml;\n",
              "          element.appendChild(docLink);\n",
              "        }\n",
              "      </script>\n",
              "    </div>\n",
              "  </div>\n",
              "  "
            ]
          },
          "metadata": {},
          "execution_count": 78
        }
      ]
    },
    {
      "cell_type": "code",
      "source": [
        "# 1. Visualisasi data dengan matplotlib\n",
        "\n",
        "data.columns = ['A','Y']\n",
        "plt.scatter(data.A, data.Y)"
      ],
      "metadata": {
        "colab": {
          "base_uri": "https://localhost:8080/",
          "height": 283
        },
        "id": "SxfhLTZhU_NE",
        "outputId": "b51bc827-417a-48fc-ee6b-297e5ac818bc"
      },
      "execution_count": 88,
      "outputs": [
        {
          "output_type": "execute_result",
          "data": {
            "text/plain": [
              "<matplotlib.collections.PathCollection at 0x7fcb7496c1d0>"
            ]
          },
          "metadata": {},
          "execution_count": 88
        },
        {
          "output_type": "display_data",
          "data": {
            "text/plain": [
              "<Figure size 432x288 with 1 Axes>"
            ],
            "image/png": "[encoded data removed]"
          },
          "metadata": {
            "needs_background": "light"
          }
        }
      ]
    },
    {
      "cell_type": "code",
      "source": [
        "# 2. Program hitung regresi linier metode invers matriks\n",
        "\n",
        "matA = np.mat(data.A)\n",
        "matY = np.mat(data.Y)\n",
        "matA, matY"
      ],
      "metadata": {
        "colab": {
          "base_uri": "https://localhost:8080/"
        },
        "id": "pgyXHNR8X3Fk",
        "outputId": "9d7997fa-e416-48df-dd73-eb0663655ba0"
      },
      "execution_count": 89,
      "outputs": [
        {
          "output_type": "execute_result",
          "data": {
            "text/plain": [
              "(matrix([[ 0.58705, -0.15098, -0.24805, -0.36056,  0.09375, -0.25847,\n",
              "          -0.17121, -0.43584, -0.17777,  0.6314 , -0.75121,  0.07738,\n",
              "          -0.35315,  0.17786, -0.10764,  0.48661,  0.2143 , -0.46019,\n",
              "          -0.85142, -0.04862,  0.28875,  0.89277,  0.37858,  0.27916,\n",
              "           0.44374,  0.47639, -0.71007,  0.39965, -0.08275,  0.27483,\n",
              "          -0.70887,  0.21256, -0.5876 ,  0.08218,  0.24345, -0.22549,\n",
              "           0.11982, -0.13756, -0.64683,  0.17907, -0.00416,  0.48763,\n",
              "          -0.17245,  0.61594, -0.50649,  0.23566, -0.07198, -0.61057,\n",
              "           0.11442, -0.03187, -0.04633, -0.1315 , -0.1354 ,  0.21295,\n",
              "          -0.2552 ,  0.20557, -0.43418,  0.10297,  0.1943 ,  0.01233,\n",
              "          -0.54049,  0.02923,  0.9175 , -0.37388, -0.82708, -0.29438,\n",
              "          -0.10156,  0.09209, -0.08249, -0.64397, -0.07143, -0.43457,\n",
              "           0.36668,  0.02261, -0.40151, -0.15786, -0.0078 , -0.28635,\n",
              "           0.20372, -0.16267, -0.05005,  0.85705,  0.20211,  0.22263,\n",
              "           0.00368,  0.7176 ,  0.14863, -0.03477,  0.11045, -0.27443,\n",
              "          -0.15219, -0.01239,  0.21052, -0.17622,  0.4427 ,  0.57697,\n",
              "           0.54242, -0.0282 , -0.52083, -0.63998]]),\n",
              " matrix([[5.79555, 3.53372, 3.22805, 2.87947, 4.40297, 3.22351, 3.33413,\n",
              "          2.64581, 3.17808, 5.89149, 1.63182, 4.16202, 3.04898, 4.47832,\n",
              "          3.4034 , 5.45144, 4.74118, 2.58099, 1.51027, 3.97839, 4.86927,\n",
              "          6.54291, 5.22406, 4.69183, 5.40699, 5.40892, 1.93511, 5.3183 ,\n",
              "          3.70831, 4.70114, 1.78144, 4.64785, 2.36904, 4.33018, 4.5812 ,\n",
              "          3.33604, 4.23821, 3.45348, 2.00809, 4.5415 , 4.10607, 5.40747,\n",
              "          3.48155, 5.7084 , 2.39071, 4.82726, 3.74389, 2.1777 , 4.27602,\n",
              "          3.88965, 3.88686, 3.67183, 3.49113, 4.67873, 3.12481, 4.68855,\n",
              "          2.74055, 4.21552, 4.5316 , 4.1083 , 2.42548, 3.98392, 6.98564,\n",
              "          2.71958, 1.53684, 3.05788, 3.62269, 4.13679, 3.89883, 2.20617,\n",
              "          3.89586, 2.65406, 5.0006 , 3.91445, 2.92545, 3.53233, 4.08026,\n",
              "          3.26051, 4.75618, 3.53234, 3.83999, 6.43863, 4.60285, 4.57233,\n",
              "          4.02064, 6.28391, 4.45149, 4.00773, 4.32023, 3.20861, 3.58077,\n",
              "          4.0157 , 4.57241, 3.4647 , 5.28338, 5.6249 , 5.5003 , 3.96986,\n",
              "          2.46482, 2.24709]]))"
            ]
          },
          "metadata": {},
          "execution_count": 89
        }
      ]
    },
    {
      "cell_type": "code",
      "source": [
        "invs = np.linalg.inv(matA.T*matY)\n",
        "x = invs*matA.T*matY\n",
        "x"
      ],
      "metadata": {
        "colab": {
          "base_uri": "https://localhost:8080/"
        },
        "id": "qSVvqLOIaVuZ",
        "outputId": "488cb62e-9e59-4d3a-9283-36a265249219"
      },
      "execution_count": 105,
      "outputs": [
        {
          "output_type": "execute_result",
          "data": {
            "text/plain": [
              "matrix([[  -5.79555  ,   -3.53372  ,   -3.22805  , ...,   -3.96986  ,\n",
              "           -2.46482  ,   -2.24709  ],\n",
              "        [  85.4843625,   52.12237  ,   47.6137375, ...,   58.555435 ,\n",
              "           36.356095 ,   33.1445775],\n",
              "        [-188.355375 , -114.8459   , -104.911625 , ..., -129.02045  ,\n",
              "          -80.10665  ,  -73.030425 ],\n",
              "        ...,\n",
              "        [  15.9377625,    9.71773  ,    8.8771375, ...,   10.917115 ,\n",
              "            6.778255 ,    6.1794975],\n",
              "        [ -15.9377625,   -9.71773  ,   -8.8771375, ...,  -10.917115 ,\n",
              "           -6.778255 ,   -6.1794975],\n",
              "        [ -13.0399875,   -7.95087  ,   -7.2631125, ...,   -8.932185 ,\n",
              "           -5.545845 ,   -5.0559525]])"
            ]
          },
          "metadata": {},
          "execution_count": 105
        }
      ]
    },
    {
      "cell_type": "code",
      "source": [
        "Gamma = np.polyfit(data.A, data.Y, 1)\n",
        "Gamma"
      ],
      "metadata": {
        "colab": {
          "base_uri": "https://localhost:8080/"
        },
        "id": "QFQYh4mrhIJ0",
        "outputId": "5641835e-c127-4511-cd52-5b36d429729f"
      },
      "execution_count": 102,
      "outputs": [
        {
          "output_type": "execute_result",
          "data": {
            "text/plain": [
              "array([2.98060191, 3.99187633])"
            ]
          },
          "metadata": {},
          "execution_count": 102
        }
      ]
    },
    {
      "cell_type": "code",
      "source": [
        "pred = Gamma[0] + Gamma[1] * x\n",
        "pred"
      ],
      "metadata": {
        "colab": {
          "base_uri": "https://localhost:8080/"
        },
        "id": "jHU75ntBegYY",
        "outputId": "11b69205-bfe7-4e68-d8df-40bca90de10b"
      },
      "execution_count": 106,
      "outputs": [
        {
          "output_type": "execute_result",
          "data": {
            "text/plain": [
              "matrix([[ -20.15451698,  -11.12557133,   -9.90537449, ...,  -12.86658828,\n",
              "           -6.85865472,   -5.98950348],\n",
              "        [ 344.22360556,  211.04665722,  193.04875384, ...,  236.72665716,\n",
              "          148.10963716,  135.28965646],\n",
              "        [-748.91076207, -455.47002844, -415.81363117, ..., -512.05307914,\n",
              "         -316.79523848, -288.54782336],\n",
              "        ...,\n",
              "        [  66.60217886,   41.77257832,   38.41703702, ...,   46.56037492,\n",
              "           30.03855763,   27.64839174],\n",
              "        [ -60.64097504,  -35.81137451,  -32.4558332 , ...,  -40.5991711 ,\n",
              "          -24.07735382,  -21.68718792],\n",
              "        [ -49.0734156 ,  -28.75828788,  -26.012845  , ...,  -32.67557601,\n",
              "          -19.1577255 ,  -17.20213522]])"
            ]
          },
          "metadata": {},
          "execution_count": 106
        }
      ]
    },
    {
      "cell_type": "code",
      "source": [
        "# 3. Prediksi linalg.lstq\n",
        "\n"
      ],
      "metadata": {
        "id": "hOF3EI1clzUY"
      },
      "execution_count": null,
      "outputs": []
    }
  ]
}